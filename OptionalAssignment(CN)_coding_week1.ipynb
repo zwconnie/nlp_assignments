{
 "cells": [
  {
   "cell_type": "code",
   "execution_count": 2,
   "metadata": {
    "collapsed": true
   },
   "outputs": [],
   "source": [
    "import random\n",
    "import jieba\n",
    "import re\n",
    "from collections import defaultdict\n",
    "from functools import reduce\n",
    "\n",
    "def combine_variable(pattern): #连接表示变量的?x和?*x\n",
    "    pattern_clean=[]\n",
    "    i=0\n",
    "    while i < len(pattern):\n",
    "        if pattern[i]=='?' and pattern[i+1].isalpha() and (i<len(pattern)-1):\n",
    "            pattern_clean.append(''.join([pattern[i],pattern[i+1]]))\n",
    "            i+=2\n",
    "        elif (i<len(pattern)-2) and pattern[i]=='?' and pattern[i+1]=='*' and pattern[i+2].isalpha():\n",
    "            pattern_clean.append(''.join([pattern[i],pattern[i+1],pattern[i+2]]))\n",
    "            i+=3\n",
    "        else:\n",
    "            pattern_clean.append(pattern[i])\n",
    "            i+=1\n",
    "    return pattern_clean\n",
    "\n",
    "def remove_variable(sentence):  #将句子切分为包含非变量词组的列表\n",
    "    sentence_combine=[]\n",
    "    sentence_comp=[]\n",
    "    for comp in combine_variable(list(jieba.cut(sentence))):\n",
    "        if (not is_pattern_segment(comp)) and (not is_variable(comp)):\n",
    "            sentence_comp +=[comp]\n",
    "        else:\n",
    "            sentence_combine.append(''.join(sentence_comp))\n",
    "            sentence_comp=[]\n",
    "        if '' in sentence_combine: sentence_combine.remove('')\n",
    "    return sentence_combine\n",
    "\n",
    "def is_variable(pat):  #判断是否是?开头的单一变量\n",
    "    return pat.startswith('?') and all(s.isalpha() for s in pat[1:])\n",
    "def is_pattern_segment(pattern):\n",
    "    return pattern.startswith('?*') and all(a.isalpha() for a in pattern[2:])\n",
    "\n",
    "fail=[True,None]   #返回所有多变量和对应值的元组列表\n",
    "def pat_match_with_seg(pattern,saying):\n",
    "    if not pattern or not saying: return []\n",
    "    pat=pattern[0]\n",
    "    if is_variable(pat):\n",
    "        return [(pat,saying[0])]+pat_match_with_seg(pattern[1:],saying[1:])\n",
    "    elif is_pattern_segment(pat):\n",
    "        match,index=segment_match(pattern,saying)\n",
    "        return [match]+pat_match_with_seg(pattern[1:],saying[index:])\n",
    "    elif pat==saying[0]:\n",
    "        return pat_match_with_seg(pattern[1:],saying[1:])\n",
    "    else:\n",
    "        return fail\n",
    "\n",
    "def segment_match(pattern,saying):    #返回多变量和对应值的元组，以及对应值中单词的个数，从后往前找\n",
    "    seg_pat,rest=pattern[0],pattern[1:]\n",
    "    seg_pat=seg_pat.replace('?*','?')\n",
    "    if not rest: \n",
    "        return (seg_pat,saying), len(saying)\n",
    "    for i, token in enumerate(saying):\n",
    "        if rest[0]==token and is_match(rest[1:],saying[(i+1):]):\n",
    "            return (seg_pat,saying[:i]),i\n",
    "    return (seg_pat,saying),len(saying)\n",
    "def is_match(rest,saying):    #判断非变量部分是否相同\n",
    "    if not rest and not saying:\n",
    "        return True\n",
    "    if not all(a.isalpha() for a in rest[0]):\n",
    "        return True\n",
    "    if rest[0] !=saying[0]:\n",
    "        return False\n",
    "    return is_match(rest[1:],saying[1:])\n",
    "            \n",
    "def pat_to_dict(patterns):   #将变量与取值生成字典\n",
    "    return {k: ''.join(v) if isinstance(v,list) else v for k, v in patterns}\n",
    "def substitute(rule, parsed_rules):    #替换变量部分\n",
    "    if not rule: return []\n",
    "    return [parsed_rules.get(rule[0], rule[0])] + substitute(rule[1:], parsed_rules)"
   ]
  },
  {
   "cell_type": "code",
   "execution_count": 3,
   "metadata": {
    "collapsed": true
   },
   "outputs": [],
   "source": [
    "rule_responses={\n",
    "    '?*x的理想是?*y': ['你觉得?y有什么意义呢？', '为什么?x想?y', '?x实现?y的理想后还想做什么','我也听?x说过?x想?y'],\n",
    "    '我试图?*x但因为?*y放弃了': ['你觉得?x有什么意义呢？', '?y具体带来了什么麻烦？', '就因为?y你就要放弃了吗','?y对?x有这么大的影响吗？'],\n",
    "    '与其?*x不如?*y': ['我觉得?x和?y不是一样的吗', '为什么你想?y', '?y吗，我觉得?x更好', '我也觉得显然?y更明智'],\n",
    "    '?*x想?*y所以?*x每天?*z': ['?x每天?z吗？', '?y有什么好的呢？', '我也想?y今天开始我也?z'],\n",
    "}"
   ]
  },
  {
   "cell_type": "code",
   "execution_count": 4,
   "metadata": {
    "collapsed": true
   },
   "outputs": [],
   "source": [
    "def get_response(saying):\n",
    "    for key in rule_responses:\n",
    "        if all(re.findall(x,saying) for x in remove_variable(key)):\n",
    "            answer_pattern=combine_variable(list(jieba.cut(random.choice(rule_responses[key]))))\n",
    "            key_pattern=combine_variable(list(jieba.cut(key)))\n",
    "            saying_pattern=combine_variable(list(jieba.cut(saying)))\n",
    "            return ''.join(substitute(answer_pattern,pat_to_dict(pat_match_with_seg(key_pattern,saying_pattern))))\n",
    "    return 'System error'\n"
   ]
  },
  {
   "cell_type": "code",
   "execution_count": 6,
   "metadata": {},
   "outputs": [
    {
     "data": {
      "text/plain": [
       "'你觉得成为火影有什么意义呢？'"
      ]
     },
     "execution_count": 6,
     "metadata": {},
     "output_type": "execute_result"
    }
   ],
   "source": [
    "get_response('鸣人的理想是成为火影')"
   ]
  },
  {
   "cell_type": "code",
   "execution_count": 7,
   "metadata": {},
   "outputs": [
    {
     "data": {
      "text/plain": [
       "'下雨对去公园跑步有这么大的影响吗？'"
      ]
     },
     "execution_count": 7,
     "metadata": {},
     "output_type": "execute_result"
    }
   ],
   "source": [
    "get_response('我试图去公园跑步但因为下雨放弃了')"
   ]
  },
  {
   "cell_type": "code",
   "execution_count": 8,
   "metadata": {},
   "outputs": [
    {
     "data": {
      "text/plain": [
       "'授人以渔吗，我觉得授人以鱼更好'"
      ]
     },
     "execution_count": 8,
     "metadata": {},
     "output_type": "execute_result"
    }
   ],
   "source": [
    "get_response('与其授人以鱼不如授人以渔')"
   ]
  },
  {
   "cell_type": "code",
   "execution_count": 11,
   "metadata": {},
   "outputs": [
    {
     "data": {
      "text/plain": [
       "'我也想成为火影今天开始我也都在练习螺旋丸'"
      ]
     },
     "execution_count": 11,
     "metadata": {},
     "output_type": "execute_result"
    }
   ],
   "source": [
    "get_response('鸣人想成为火影所以鸣人每天都在练习螺旋丸')"
   ]
  },
  {
   "cell_type": "code",
   "execution_count": null,
   "metadata": {
    "collapsed": true
   },
   "outputs": [],
   "source": []
  }
 ],
 "metadata": {
  "kernelspec": {
   "display_name": "Python 3",
   "language": "python",
   "name": "python3"
  },
  "language_info": {
   "codemirror_mode": {
    "name": "ipython",
    "version": 3
   },
   "file_extension": ".py",
   "mimetype": "text/x-python",
   "name": "python",
   "nbconvert_exporter": "python",
   "pygments_lexer": "ipython3",
   "version": "3.6.3"
  }
 },
 "nbformat": 4,
 "nbformat_minor": 2
}
