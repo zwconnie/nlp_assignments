{
 "cells": [
  {
   "cell_type": "code",
   "execution_count": 38,
   "metadata": {
    "collapsed": true
   },
   "outputs": [],
   "source": [
    "import random\n",
    "import re\n",
    "from collections import defaultdict\n",
    "\n",
    "def is_variable(pat):  #判断是否是?开头的单一变量\n",
    "    return pat.startswith('?') and all(s.isalpha() for s in pat[1:])\n",
    "def is_pattern_segment(pattern):\n",
    "    return pattern.startswith('?*') and all(a.isalpha() for a in pattern[2:])\n",
    "\n",
    "fail=[True,None]   #返回所有多变量和对应值的元组列表\n",
    "def pat_match_with_seg(pattern,saying):\n",
    "    if not pattern or not saying: return []\n",
    "    pat=pattern[0]\n",
    "    if is_variable(pat):\n",
    "        return [(pat,saying[0])]+pat_match_with_seg(pattern[1:],saying[1:])\n",
    "    elif is_pattern_segment(pat):\n",
    "        match,index=segment_match(pattern,saying)\n",
    "        return [match]+pat_match_with_seg(pattern[1:],saying[index:])\n",
    "    elif pat==saying[0]:\n",
    "        return pat_match_with_seg(pattern[1:],saying[1:])\n",
    "    else:\n",
    "        return fail\n",
    "\n",
    "def segment_match(pattern,saying):    #返回多变量和对应值的元组，以及对应值中单词的个数，从后往前找\n",
    "    seg_pat,rest=pattern[0],pattern[1:]\n",
    "    seg_pat=seg_pat.replace('?*','?')\n",
    "    if not rest: \n",
    "        return (seg_pat,saying), len(saying)\n",
    "    for i, token in enumerate(saying):\n",
    "        if rest[0]==token and is_match(rest[1:],saying[(i+1):]):\n",
    "            return (seg_pat,saying[:i]),i\n",
    "    return (seg_pat,saying),len(saying)\n",
    "def is_match(rest,saying):    #判断非变量部分是否相同\n",
    "    if not rest and not saying:\n",
    "        return True\n",
    "    if not all(a.isalpha() for a in rest[0]):\n",
    "        return True\n",
    "    if rest[0] !=saying[0]:\n",
    "        return False\n",
    "    return is_match(rest[1:],saying[1:])\n",
    "            \n",
    "def pat_to_dict(patterns):   #将变量与取值生成字典\n",
    "    return {k: ' '.join(v) if isinstance(v,list) else v for k, v in patterns}\n",
    "def substitute(rule, parsed_rules):    #替换变量部分\n",
    "    if not rule: return []\n",
    "    return [parsed_rules.get(rule[0], rule[0])] + substitute(rule[1:], parsed_rules)\n"
   ]
  },
  {
   "cell_type": "code",
   "execution_count": 39,
   "metadata": {
    "collapsed": true
   },
   "outputs": [],
   "source": [
    "rule_responses = {\n",
    "    '?*x hello ?*y': ['How do you do', 'Please state your problem'],\n",
    "    '?*x I want ?*y': ['which color do you need for ?y', 'Please let me know the color of ?y'],\n",
    "    '?*x the color I need is ?*y': ['Do you confirm ?y is your choice, Yes to confirm, No to cancel', 'Please reconfirm your choice: ?y Yes to confirm, No to cancel'],\n",
    "    'Yes': ['Comfirmed', 'Order completed', 'Please comment if you have other requirements'],\n",
    "    'No': ['Order canceled', 'Thank you for using', 'Here are other goods you may be interested in'],\n",
    "}"
   ]
  },
  {
   "cell_type": "code",
   "execution_count": 40,
   "metadata": {
    "collapsed": true
   },
   "outputs": [],
   "source": [
    "from functools import reduce\n",
    "def remove_variable(sentence):\n",
    "    sentence_combine=[]\n",
    "    sentence_comp=[]\n",
    "    for comp in sentence.split():\n",
    "        if (not is_pattern_segment(comp)) and (not is_variable(comp)):\n",
    "            sentence_comp +=[comp]\n",
    "        else:\n",
    "            sentence_combine.append(' '.join(sentence_comp))\n",
    "            sentence_comp=[]\n",
    "        if '' in sentence_combine: sentence_combine.remove('')\n",
    "    return sentence_combine\n",
    "def get_response(saying):\n",
    "    for i,key in enumerate(rule_responses):\n",
    "        if all(re.findall(x,saying) for x in remove_variable(key)):\n",
    "            answer_pattern=random.choice(rule_responses[key])\n",
    "            answer=' '.join(substitute(answer_pattern.split(),pat_to_dict(pat_match_with_seg(key.split(),saying.split()))))\n",
    "            if i<=1:\n",
    "                next_question=reduce(lambda x,y: x+y+'__',remove_variable(list(enumerate(rule_responses))[i+1][1]))\n",
    "                saying=input(answer + '\\nPlease provide more details. e.g. '+ next_question + '__')\n",
    "            elif i==2:\n",
    "                saying=input(answer + '\\nPlease provide more details. e.g. Yes/No')\n",
    "            else:\n",
    "                return answer\n",
    "            return get_response(saying)\n",
    "    return 'System error'\n",
    "    "
   ]
  },
  {
   "cell_type": "code",
   "execution_count": 41,
   "metadata": {},
   "outputs": [
    {
     "name": "stdout",
     "output_type": "stream",
     "text": [
      "How do you do\n",
      "Please provide more details. e.g. I want__I want a bike\n",
      "Please let me know the color of a bike\n",
      "Please provide more details. e.g. the color I need is__the color I need is red\n",
      "Do you confirm red is your choice, Yes to confirm, No to cancel\n",
      "Please provide more details. e.g. Yes/NoYes\n"
     ]
    },
    {
     "data": {
      "text/plain": [
       "'Please comment if you have other requirements'"
      ]
     },
     "execution_count": 41,
     "metadata": {},
     "output_type": "execute_result"
    }
   ],
   "source": [
    "get_response('hello')"
   ]
  },
  {
   "cell_type": "markdown",
   "metadata": {
    "collapsed": true
   },
   "source": [
    "问题3:多设计一些模式，让这个程序变得更好玩，多和大家交流，看看大家有什么好玩的模式\n",
    "\n",
    "Ans:相较基础代码，基于非变量部分是否一致来判定输入语句应对应哪一类回答；加入input函数，如用户按照提示输入语句，将按照rule_responses排列顺序交互回答。\n",
    "\n",
    "问题4：\n",
    "1.这样的程序有什么优点？有什么缺点？你有什么可以改进的方法吗？ \n",
    "\n",
    "(1)输入的提问的词组必须与rule_responses中的pattern完全一致，可以增加同义词字典，自动将输入词组替换为同义词组后再与rule_responses匹配\n",
    "\n",
    "(2)目前的输入识别基于非变量部分词组是否一致，若输入语句更长，或者系统需要识别的pattern增加，可能出现2条不同的输入语句包含同样的词组，从而导致输入类别识别错误，可考虑变量及非变量词组出现顺序对语句进行切割，实现更准确分类。\n",
    "\n",
    "2.什么是数据驱动？数据驱动在这个程序里如何体现？\n",
    "3.数据驱动与 AI 的关系是什么？ \n"
   ]
  },
  {
   "cell_type": "code",
   "execution_count": null,
   "metadata": {
    "collapsed": true
   },
   "outputs": [],
   "source": []
  },
  {
   "cell_type": "code",
   "execution_count": null,
   "metadata": {
    "collapsed": true
   },
   "outputs": [],
   "source": []
  }
 ],
 "metadata": {
  "kernelspec": {
   "display_name": "Python 3",
   "language": "python",
   "name": "python3"
  },
  "language_info": {
   "codemirror_mode": {
    "name": "ipython",
    "version": 3
   },
   "file_extension": ".py",
   "mimetype": "text/x-python",
   "name": "python",
   "nbconvert_exporter": "python",
   "pygments_lexer": "ipython3",
   "version": "3.6.3"
  }
 },
 "nbformat": 4,
 "nbformat_minor": 2
}
