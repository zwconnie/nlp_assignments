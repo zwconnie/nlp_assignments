{
 "cells": [
  {
   "cell_type": "markdown",
   "metadata": {},
   "source": [
    "## 1.语句生成器"
   ]
  },
  {
   "cell_type": "code",
   "execution_count": 105,
   "metadata": {
    "collapsed": true
   },
   "outputs": [],
   "source": [
    "diary_grammar = \"\"\"\n",
    "sentence => sub_phrase act_phrase*\n",
    "sub_phrase => adj* sub\n",
    "act_phrase => prep_phrase verb\n",
    "act_phrase* => act_phrase punc1 | act_phrase punc2 act_phrase*\n",
    "prep_phrase => adv prep place\n",
    "sub =>   我 |  小明 | 老师 | 姐姐\n",
    "adj =>  有意思的 | 欢快的 | 难过的 | 可爱的\n",
    "adj* => null | adj adj*\n",
    "adv => 昨天 | 今天 | 上周\n",
    "prep => 在 | 去 | 到\n",
    "place => 公园 | 操场 | 学校 | 体育馆\n",
    "verb => 打羽毛球  | 跑步  |  打篮球 | 踢足球\n",
    "punc1 => 。\n",
    "punc2 => ，\n",
    "\"\"\""
   ]
  },
  {
   "cell_type": "code",
   "execution_count": 106,
   "metadata": {
    "collapsed": true
   },
   "outputs": [],
   "source": [
    "direction_grammar='''\n",
    "sentence => direction_phrase* place_phrase\n",
    "direction_phrase => direction verb distance\n",
    "direction_phrase* => direction_phrase punc1 | direction_phrase punc1 direction_phrase*\n",
    "place_phrase => place location punc2\n",
    "direction => 直走 | 左转 | 右转\n",
    "verb => 步行 | 跑步 | 坐公交 | 骑车\n",
    "distance => 100米 | 1000米 | 10分钟 | 1小时\n",
    "place => 博物馆 | 图书馆 | 电影院 | 餐厅\n",
    "location => 在马路对面 | 在右边 | 在左边\n",
    "punc1 => ，\n",
    "punc2 => 。\n",
    "'''"
   ]
  },
  {
   "cell_type": "code",
   "execution_count": 107,
   "metadata": {
    "collapsed": true
   },
   "outputs": [],
   "source": [
    "def create_grammar(grammar_str, split='=>',line_split='\\n'):\n",
    "    grammar={}\n",
    "    for line in grammar_str.split(line_split):\n",
    "        if not line.strip(): continue\n",
    "        exp, stmt=line.split(split)\n",
    "        grammar[exp.strip()]=[s.split() for s in stmt.split('|')]\n",
    "    return grammar"
   ]
  },
  {
   "cell_type": "code",
   "execution_count": 108,
   "metadata": {
    "collapsed": true
   },
   "outputs": [],
   "source": [
    "import random\n",
    "choice=random.choice\n",
    "def generate(grammar,target):\n",
    "    if target not in grammar: return target\n",
    "    components=[generate(grammar,t) for t in choice(grammar[target])]\n",
    "    return ''.join(e  for e in components if e != 'null')\n",
    "    "
   ]
  },
  {
   "cell_type": "code",
   "execution_count": 109,
   "metadata": {},
   "outputs": [
    {
     "name": "stdout",
     "output_type": "stream",
     "text": [
      "有意思的难过的老师今天在公园打篮球，上周到公园跑步，昨天去体育馆打篮球。\n",
      "可爱的可爱的有意思的老师昨天在公园跑步，今天到学校打羽毛球。\n",
      "姐姐上周到体育馆打羽毛球。\n",
      "老师今天到操场打羽毛球。\n",
      "欢快的可爱的可爱的可爱的有意思的姐姐今天在操场跑步。\n",
      "可爱的姐姐上周去公园踢足球。\n",
      "欢快的姐姐上周去操场跑步，今天去学校踢足球。\n",
      "欢快的姐姐今天去学校打羽毛球，今天到学校踢足球。\n",
      "可爱的难过的我上周在公园打羽毛球。\n",
      "我上周到公园跑步，昨天到学校打篮球。\n",
      "左转坐公交1000米，直走骑车1000米，左转骑车1000米，电影院在马路对面。\n",
      "左转坐公交100米，博物馆在右边。\n",
      "左转坐公交10分钟，直走跑步1小时，博物馆在右边。\n",
      "右转坐公交1小时，左转坐公交1小时，左转跑步10分钟，博物馆在右边。\n",
      "左转骑车1小时，右转骑车1000米，图书馆在左边。\n",
      "直走骑车10分钟，左转步行10分钟，图书馆在右边。\n",
      "右转坐公交1000米，图书馆在右边。\n",
      "直走跑步10分钟，左转骑车1小时，直走步行1000米，左转骑车10分钟，餐厅在马路对面。\n",
      "右转跑步1小时，直走步行1000米，左转步行1小时，左转跑步1小时，电影院在马路对面。\n",
      "右转跑步100米，餐厅在马路对面。\n"
     ]
    }
   ],
   "source": [
    "for i in range(10):\n",
    "    print(generate(create_grammar(diary_grammar),'sentence'))\n",
    "for i in range(10):    \n",
    "    print(generate(create_grammar(direction_grammar),'sentence'))"
   ]
  },
  {
   "cell_type": "markdown",
   "metadata": {},
   "source": [
    "## 2.使用新数据完成语言模型训练"
   ]
  },
  {
   "cell_type": "code",
   "execution_count": 160,
   "metadata": {
    "collapsed": true
   },
   "outputs": [],
   "source": [
    "filename='E:/AI/lesson1/movie_comments.csv'"
   ]
  },
  {
   "cell_type": "code",
   "execution_count": 165,
   "metadata": {},
   "outputs": [
    {
     "name": "stderr",
     "output_type": "stream",
     "text": [
      "C:\\Users\\zwconnie\\Anaconda3\\lib\\site-packages\\IPython\\core\\interactiveshell.py:2698: DtypeWarning: Columns (0,4) have mixed types. Specify dtype option on import or set low_memory=False.\n",
      "  interactivity=interactivity, compiler=compiler, result=result)\n"
     ]
    }
   ],
   "source": [
    "import pandas as pd\n",
    "import re\n",
    "from collections import Counter\n",
    "import jieba\n",
    "content=pd.read_csv(filename)\n",
    "articles=content['comment'].tolist()"
   ]
  },
  {
   "cell_type": "code",
   "execution_count": 167,
   "metadata": {
    "collapsed": true
   },
   "outputs": [],
   "source": [
    "def token(string):\n",
    "    return re.findall('\\w+',string)"
   ]
  },
  {
   "cell_type": "code",
   "execution_count": 168,
   "metadata": {
    "collapsed": true
   },
   "outputs": [],
   "source": [
    "articles_clean=[''.join(token(str(a))) for a in articles]\n",
    "TOKEN=[]\n",
    "for a in articles_clean:\n",
    "    TOKEN += list(jieba.cut(a))\n",
    "TOKEN_2gram=[''.join(TOKEN[i:i+2]) for i in range(len(TOKEN)-2)]\n",
    "words_count_2gram=Counter(TOKEN_2gram)\n",
    "def prob_2gram(word1,word2):\n",
    "    if word1+word2 in words_count_2gram:\n",
    "        return words_count_2[word1+word2]/len(TOKEN_2gram)\n",
    "    else:\n",
    "        return 1/len(TOKEN_2gram)"
   ]
  },
  {
   "cell_type": "code",
   "execution_count": 169,
   "metadata": {
    "collapsed": true
   },
   "outputs": [],
   "source": [
    "def get_prob(sentence):\n",
    "    words=list(jieba.cut(sentence))\n",
    "    sentence_prob=1\n",
    "    for i,word in enumerate(words[:-1]):\n",
    "        next_=words[i+1]\n",
    "        prob=prob_2gram(word,next_)\n",
    "        sentence_prob *=prob\n",
    "    return sentence_prob"
   ]
  },
  {
   "cell_type": "markdown",
   "metadata": {},
   "source": [
    "## 3.获得最优质的语言"
   ]
  },
  {
   "cell_type": "code",
   "execution_count": 170,
   "metadata": {
    "collapsed": true
   },
   "outputs": [],
   "source": [
    "def generate_best(grammar, target, n):\n",
    "    sentence_pool=[]\n",
    "    sentence_cleanpool=[]\n",
    "    for i in range(n):\n",
    "        sentence=generate(create_grammar(grammar),target)\n",
    "        sentence_clean=''.join(token(str(sentence)))\n",
    "        sentence_pool.append((sentence,sentence_clean))\n",
    "        sentence_cleanpool.append(sentence_clean)\n",
    "    sentence_prob=[(get_prob(s),s) for s in sentence_cleanpool]\n",
    "    sentence_prob=sorted(sentence_prob,key=lambda x:x[0],reverse=True)\n",
    "    print('The most reasonable sentence is {} with probability {}'.format([sentence_pool[x][0] for x in range(len(sentence_pool)) if sentence_pool[x][1]==sentence_prob[0][1]][0],sentence_prob[0][0]))\n",
    "    for prob,s in sentence_prob:\n",
    "        print('-'*4 + ' {} with probability {}'.format([sentence_pool[x][0] for x in range(len(sentence_pool)) if sentence_pool[x][1]==s][0],prob))"
   ]
  },
  {
   "cell_type": "code",
   "execution_count": 171,
   "metadata": {},
   "outputs": [
    {
     "name": "stdout",
     "output_type": "stream",
     "text": [
      "The most reasonable sentence is 我今天到体育馆踢足球。 with probability 6.141497703553918e-26\n",
      "---- 我今天到体育馆踢足球。 with probability 6.141497703553918e-26\n",
      "---- 小明今天到公园踢足球。 with probability 6.823886337282131e-27\n",
      "---- 难过的小明今天在学校跑步。 with probability 3.7260731991974255e-36\n",
      "---- 有意思的我上周到操场跑步。 with probability 1.2735134650658724e-36\n",
      "---- 可爱的小明上周到操场跑步。 with probability 1.5345936902984691e-38\n",
      "---- 欢快的小明昨天在学校打羽毛球。 with probability 3.6969436530470894e-42\n",
      "---- 我上周到公园踢足球，今天去公园打羽毛球。 with probability 5.06438285262883e-59\n",
      "---- 欢快的我今天到学校打羽毛球，上周到学校打篮球。 with probability 8.740697846772398e-66\n",
      "---- 姐姐今天到公园打羽毛球，昨天在学校跑步，今天去体育馆打羽毛球。 with probability 8.013245997775071e-88\n",
      "---- 欢快的老师昨天在公园打篮球，昨天到学校打羽毛球，今天去学校打羽毛球。 with probability 0.0\n",
      "---- 我今天在操场打篮球，今天在操场跑步，今天在体育馆打羽毛球，昨天到操场踢足球，今天到体育馆踢足球，昨天在操场跑步。 with probability 0.0\n",
      "---- 老师今天去公园跑步，昨天到公园踢足球，上周到操场跑步。 with probability 0.0\n",
      "---- 姐姐上周在学校踢足球，今天在体育馆跑步，上周去体育馆跑步，上周到公园打羽毛球，上周到操场打羽毛球，昨天去操场打羽毛球，上周在体育馆跑步，上周到公园打篮球。 with probability 0.0\n",
      "---- 难过的欢快的有意思的欢快的姐姐今天在公园踢足球，今天去学校跑步，昨天到操场跑步。 with probability 0.0\n",
      "---- 小明今天在体育馆打篮球，今天在体育馆跑步，昨天去学校打羽毛球，今天到公园打羽毛球，昨天去学校跑步，上周去体育馆打篮球，今天在公园打篮球。 with probability 0.0\n",
      "---- 小明今天去公园打羽毛球，上周在公园打篮球，昨天在公园跑步，今天在操场跑步，上周去操场踢足球，今天到学校跑步，上周去公园打羽毛球，上周到操场踢足球。 with probability 0.0\n",
      "---- 有意思的欢快的有意思的姐姐上周在操场跑步，上周去公园打篮球。 with probability 0.0\n",
      "---- 难过的可爱的我上周去公园踢足球，昨天到体育馆跑步。 with probability 0.0\n",
      "---- 姐姐上周到公园踢足球，今天在体育馆跑步，上周到公园踢足球，今天到体育馆踢足球，昨天到学校打羽毛球。 with probability 0.0\n",
      "---- 小明昨天去操场打羽毛球。 with probability 0.0\n",
      "The most reasonable sentence is 右转骑车1小时，博物馆在右边。 with probability 1.339281766078664e-37\n",
      "---- 右转骑车1小时，博物馆在右边。 with probability 1.339281766078664e-37\n",
      "---- 左转步行100米，图书馆在左边。 with probability 1.0164191974704144e-38\n",
      "---- 右转骑车1小时，博物馆在马路对面。 with probability 5.664485272023372e-44\n",
      "---- 直走坐公交10分钟，餐厅在右边。 with probability 2.7744417658889974e-44\n",
      "---- 右转坐公交10分钟，餐厅在左边。 with probability 2.0808313244167483e-44\n",
      "---- 直走骑车100米，博物馆在马路对面。 with probability 1.7195758861499515e-44\n",
      "---- 右转跑步100米，左转骑车1小时，图书馆在左边。 with probability 1.942060140879496e-63\n",
      "---- 直走骑车100米，左转步行100米，餐厅在左边。 with probability 5.895539713384184e-64\n",
      "---- 右转跑步1000米，右转坐公交1小时，博物馆在左边。 with probability 2.9818648534239876e-69\n",
      "---- 左转跑步10分钟，右转坐公交10分钟，博物馆在马路对面。 with probability 8.648079021726998e-75\n",
      "---- 左转步行10分钟，左转步行1000米，直走跑步1小时，图书馆在左边。 with probability 1.2208744099741037e-94\n",
      "---- 左转坐公交10分钟，右转步行10分钟，直走坐公交1小时，博物馆在马路对面。 with probability 7.987114454203147e-106\n",
      "---- 直走坐公交10分钟，直走骑车100米，直走跑步1000米，图书馆在马路对面。 with probability 1.0102748937608146e-107\n",
      "---- 左转步行10分钟，右转坐公交1小时，右转步行10分钟，直走步行1000米，右转跑步1小时，图书馆在右边。 with probability 1.5281423931568018e-143\n",
      "---- 右转跑步1小时，电影院在右边。 with probability 0.0\n",
      "---- 直走骑车1小时，右转坐公交10分钟，左转骑车10分钟，电影院在左边。 with probability 0.0\n",
      "---- 直走步行1000米，电影院在左边。 with probability 0.0\n",
      "---- 直走骑车1小时，右转骑车100米，直走跑步100米，左转坐公交100米，电影院在左边。 with probability 0.0\n",
      "---- 右转骑车100米，电影院在右边。 with probability 0.0\n",
      "---- 左转骑车1000米，电影院在马路对面。 with probability 0.0\n"
     ]
    }
   ],
   "source": [
    "generate_best(diary_grammar,'sentence',20)\n",
    "generate_best(direction_grammar,'sentence',20)"
   ]
  },
  {
   "cell_type": "markdown",
   "metadata": {},
   "source": [
    "#### Q: 这个模型有什么问题？ 你准备如何提升？"
   ]
  },
  {
   "cell_type": "markdown",
   "metadata": {},
   "source": [
    "#### Ans: \n",
    "（1）生成语句的概率都很小，即使选出概率最大的句子也不能保证该句是所有语句中最合理的，需要进一步扩大语料库提升概率模型的准确度。\n",
    "（2）目前的二元模型中的概率仅基于词组在语料库中的出现次数所计算，对于未出现词组，直接使用1/所有词组数来替代，需要进一步对零概率和小概率词组做出处理。\n",
    "（3）以上句子的概率大小与句子长度直接相关，需要对句子长度标准化后再进行比较。"
   ]
  },
  {
   "cell_type": "code",
   "execution_count": null,
   "metadata": {
    "collapsed": true
   },
   "outputs": [],
   "source": []
  },
  {
   "cell_type": "code",
   "execution_count": null,
   "metadata": {
    "collapsed": true
   },
   "outputs": [],
   "source": []
  }
 ],
 "metadata": {
  "kernelspec": {
   "display_name": "Python 3",
   "language": "python",
   "name": "python3"
  },
  "language_info": {
   "codemirror_mode": {
    "name": "ipython",
    "version": 3
   },
   "file_extension": ".py",
   "mimetype": "text/x-python",
   "name": "python",
   "nbconvert_exporter": "python",
   "pygments_lexer": "ipython3",
   "version": "3.6.3"
  }
 },
 "nbformat": 4,
 "nbformat_minor": 2
}
