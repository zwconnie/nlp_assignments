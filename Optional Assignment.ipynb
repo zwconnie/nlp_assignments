{
 "cells": [
  {
   "cell_type": "code",
   "execution_count": 64,
   "metadata": {},
   "outputs": [],
   "source": [
    "def is_variable(pat):  #判断是否是变量\n",
    "    return pat.startswith('?') and all(s.isalpha() for s in pat[1:])\n",
    "def pat_match(pattern, saying):  #返回变量和取值一一对应的列表\n",
    "    if not pattern or not saying: return []\n",
    "    if is_variable(pattern[0]):\n",
    "        return [(pattern[0], saying[0])] + pat_match(pattern[1:], saying[1:])\n",
    "    else:\n",
    "        if pattern[0] != saying[0]: return []\n",
    "        else:\n",
    "            return pat_match(pattern[1:], saying[1:])          \n",
    "def pat_check(pattern,saying):   #在变量匹配后，若后续句子出现不同成分，则判定pattern不符\n",
    "    if (not is_variable(pattern[0])) and (pattern[0] != saying[0]): \n",
    "        return False\n",
    "    else: \n",
    "        if len(pattern)==1: return True\n",
    "        else: return pat_check(pattern[1:], saying[1:])\n",
    "def pat_to_dict(patterns):    #将上述列表改为字典\n",
    "    return {k:v for k,v in patterns}\n",
    "def substitute(rule,parsed_rules):   #遇到字典key相同的变量，替换为字典的value\n",
    "    if not rule: return[]\n",
    "    return [parsed_rules.get(rule[0],rule[0])] + substitute(rule[1:],parsed_rules)        "
   ]
  },
  {
   "cell_type": "code",
   "execution_count": 65,
   "metadata": {
    "collapsed": true
   },
   "outputs": [],
   "source": [
    "defined_patterns = {\n",
    "    \"I need ?X\": [\"Image you will get ?X soon\", \"Why do you need ?X ?\"], \n",
    "    \"My ?X told me something\": [\"Talk about more about your ?X\", \"How do you think about your ?X ?\"]\n",
    "}"
   ]
  },
  {
   "cell_type": "code",
   "execution_count": 66,
   "metadata": {},
   "outputs": [],
   "source": [
    "import random\n",
    "def get_response(saying):\n",
    "    i=0\n",
    "    for key in defined_patterns:\n",
    "        if not pat_check(key.split(),saying.split()): continue\n",
    "        else:\n",
    "            got_pattern=pat_match(key.split(),saying.split())\n",
    "            pat_dict=pat_to_dict(got_pattern)\n",
    "            i+=1\n",
    "            return ' '.join(substitute(random.choice(defined_patterns[key]).split(),pat_dict))\n",
    "    if i==0:\n",
    "        return 'sorry, response unavailable'"
   ]
  },
  {
   "cell_type": "code",
   "execution_count": 74,
   "metadata": {},
   "outputs": [
    {
     "data": {
      "text/plain": [
       "'sorry, response unavailable'"
      ]
     },
     "execution_count": 74,
     "metadata": {},
     "output_type": "execute_result"
    }
   ],
   "source": [
    "get_response('I want apple')"
   ]
  },
  {
   "cell_type": "code",
   "execution_count": 54,
   "metadata": {},
   "outputs": [
    {
     "data": {
      "text/plain": [
       "[('?X', 'mother')]"
      ]
     },
     "execution_count": 54,
     "metadata": {},
     "output_type": "execute_result"
    }
   ],
   "source": [
    "pat_check('My ?X told me something'.split(),'My mother tells me something'.split())"
   ]
  },
  {
   "cell_type": "code",
   "execution_count": null,
   "metadata": {
    "collapsed": true
   },
   "outputs": [],
   "source": []
  }
 ],
 "metadata": {
  "kernelspec": {
   "display_name": "Python 3",
   "language": "python",
   "name": "python3"
  },
  "language_info": {
   "codemirror_mode": {
    "name": "ipython",
    "version": 3
   },
   "file_extension": ".py",
   "mimetype": "text/x-python",
   "name": "python",
   "nbconvert_exporter": "python",
   "pygments_lexer": "ipython3",
   "version": "3.6.3"
  }
 },
 "nbformat": 4,
 "nbformat_minor": 2
}
